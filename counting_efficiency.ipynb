{
 "cells": [
  {
   "cell_type": "markdown",
   "id": "ce763c77-7ff5-43b7-a2dc-77533eb0381c",
   "metadata": {},
   "source": [
    "# Question 1"
   ]
  },
  {
   "cell_type": "code",
   "execution_count": 102,
   "id": "077746f6-de75-4d76-85a7-aee608efa933",
   "metadata": {},
   "outputs": [
    {
     "data": {
      "text/plain": [
       "4"
      ]
     },
     "execution_count": 102,
     "metadata": {},
     "output_type": "execute_result"
    }
   ],
   "source": [
    "# Define a function that calculates f(n) \n",
    "def count_ones(n):\n",
    "    count = 0\n",
    "    # Iterate through numbers up through n, range upper bound is n+1 because not inclusive\n",
    "    for i in range (1, n + 1):\n",
    "        # Convert the current number to a string and count occurances of 1\n",
    "        count += str(i).count('1')\n",
    "    return (count)\n",
    "\n",
    "count_ones(11)"
   ]
  },
  {
   "cell_type": "code",
   "execution_count": 15,
   "id": "36f9a643-e63e-446a-a68e-4d83b4ed2c2d",
   "metadata": {},
   "outputs": [
    {
     "ename": "KeyboardInterrupt",
     "evalue": "",
     "output_type": "error",
     "traceback": [
      "\u001b[0;31m---------------------------------------------------------------------------\u001b[0m",
      "\u001b[0;31mKeyboardInterrupt\u001b[0m                         Traceback (most recent call last)",
      "Cell \u001b[0;32mIn[15], line 3\u001b[0m\n\u001b[1;32m      1\u001b[0m n \u001b[38;5;241m=\u001b[39m \u001b[38;5;241m2\u001b[39m\n\u001b[1;32m      2\u001b[0m \u001b[38;5;28;01mwhile\u001b[39;00m \u001b[38;5;28;01mTrue\u001b[39;00m:\n\u001b[0;32m----> 3\u001b[0m     \u001b[38;5;28;01mif\u001b[39;00m count_ones(n) \u001b[38;5;241m==\u001b[39m n:\n\u001b[1;32m      4\u001b[0m         \u001b[38;5;28;01mbreak\u001b[39;00m\n\u001b[1;32m      5\u001b[0m     n\u001b[38;5;241m+\u001b[39m\u001b[38;5;241m=\u001b[39m\u001b[38;5;241m1\u001b[39m\n",
      "Cell \u001b[0;32mIn[13], line 4\u001b[0m, in \u001b[0;36mcount_ones\u001b[0;34m(n)\u001b[0m\n\u001b[1;32m      2\u001b[0m count \u001b[38;5;241m=\u001b[39m \u001b[38;5;241m0\u001b[39m\n\u001b[1;32m      3\u001b[0m \u001b[38;5;28;01mfor\u001b[39;00m i \u001b[38;5;129;01min\u001b[39;00m \u001b[38;5;28mrange\u001b[39m (\u001b[38;5;241m1\u001b[39m, n \u001b[38;5;241m+\u001b[39m \u001b[38;5;241m1\u001b[39m):\n\u001b[0;32m----> 4\u001b[0m     count \u001b[38;5;241m+\u001b[39m\u001b[38;5;241m=\u001b[39m \u001b[38;5;28mstr\u001b[39m(i)\u001b[38;5;241m.\u001b[39mcount(\u001b[38;5;124m'\u001b[39m\u001b[38;5;124m1\u001b[39m\u001b[38;5;124m'\u001b[39m)\n\u001b[1;32m      5\u001b[0m \u001b[38;5;28;01mreturn\u001b[39;00m (count)\n",
      "\u001b[0;31mKeyboardInterrupt\u001b[0m: "
     ]
    }
   ],
   "source": [
    "n = 2 # start at n=2 because given n>1\n",
    "\n",
    "# Try values of n until f(n)=n\n",
    "while True:\n",
    "    if count_ones(n) == n:\n",
    "        break\n",
    "    n+=1\n",
    "\n",
    "print(n)"
   ]
  },
  {
   "cell_type": "markdown",
   "id": "e0a7e2f3-f507-4a29-b81a-a3d57ebad2d8",
   "metadata": {},
   "source": [
    "This was taking too long to run. At first I was thinking I could use a more efficient search strategy like binary search with some  large upper bound, or thinking of a way to calculate f(n) more efficiently like looking at each digit place. But then I realized what was happening was extremely repetitive. Really, I just needed to add the number of ones in the current n value to the previous count for f(n). "
   ]
  },
  {
   "cell_type": "code",
   "execution_count": 111,
   "id": "fc7cd179-a454-4fae-ab1f-01a4b7abc314",
   "metadata": {},
   "outputs": [
    {
     "data": {
      "text/plain": [
       "199981"
      ]
     },
     "execution_count": 111,
     "metadata": {},
     "output_type": "execute_result"
    }
   ],
   "source": [
    "n = 2 # start at 2 because of arbitrary case where n = 1\n",
    "count = 1 # start at 1 because f(2) = 1\n",
    "\n",
    "while True:\n",
    "    count += str(n).count('1')\n",
    "    if count == i:\n",
    "        break\n",
    "    n+=1\n",
    "n"
   ]
  },
  {
   "cell_type": "code",
   "execution_count": 106,
   "id": "1efa6dc3-a885-41e8-bc51-017fb0e2beba",
   "metadata": {},
   "outputs": [
    {
     "data": {
      "text/plain": [
       "199981"
      ]
     },
     "execution_count": 106,
     "metadata": {},
     "output_type": "execute_result"
    }
   ],
   "source": [
    "# Verify the solution with the original code\n",
    "count_ones(199981)"
   ]
  }
 ],
 "metadata": {
  "kernelspec": {
   "display_name": "Python 3 (ipykernel)",
   "language": "python",
   "name": "python3"
  },
  "language_info": {
   "codemirror_mode": {
    "name": "ipython",
    "version": 3
   },
   "file_extension": ".py",
   "mimetype": "text/x-python",
   "name": "python",
   "nbconvert_exporter": "python",
   "pygments_lexer": "ipython3",
   "version": "3.12.4"
  }
 },
 "nbformat": 4,
 "nbformat_minor": 5
}
